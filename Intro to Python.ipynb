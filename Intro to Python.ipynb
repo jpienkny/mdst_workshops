{
 "cells": [
  {
   "cell_type": "code",
   "execution_count": 5,
   "metadata": {},
   "outputs": [
    {
     "name": "stdout",
     "output_type": "stream",
     "text": [
      "Hello World\n"
     ]
    }
   ],
   "source": [
    "#Hello World Program\n",
    "print(\"Hello World\")"
   ]
  },
  {
   "cell_type": "code",
   "execution_count": 10,
   "metadata": {},
   "outputs": [
    {
     "name": "stdout",
     "output_type": "stream",
     "text": [
      "7\n",
      "8.0\n",
      "workshop\n"
     ]
    }
   ],
   "source": [
    "#Variables\n",
    "a = 7\n",
    "b = 8.0\n",
    "mdst = \"workshop\"\n",
    "me = 'you'\n",
    "\n",
    "print(a)\n",
    "print(b)\n",
    "print(mdst)"
   ]
  },
  {
   "cell_type": "code",
   "execution_count": 12,
   "metadata": {},
   "outputs": [
    {
     "data": {
      "text/plain": [
       "'\\nRules for Python variables:\\nA variable name must start with a letter or the underscore character\\nA variable name cannot start with a number\\nA variable name can only contain alpha-numeric characters and underscores (A-z, 0-9, and _ )\\nVariable names are case-sensitive (age, Age and AGE are three different variables)\\n'"
      ]
     },
     "execution_count": 12,
     "metadata": {},
     "output_type": "execute_result"
    }
   ],
   "source": [
    "'''\n",
    "Rules for Python variables:\n",
    "A variable name must start with a letter or the underscore character\n",
    "A variable name cannot start with a number\n",
    "A variable name can only contain alpha-numeric characters and underscores (A-z, 0-9, and _ )\n",
    "Variable names are case-sensitive (age, Age and AGE are three different variables)\n",
    "'''"
   ]
  },
  {
   "cell_type": "code",
   "execution_count": 14,
   "metadata": {},
   "outputs": [],
   "source": [
    "#String,\n",
    "#Integer, \n",
    "#Double/Float,\n",
    "#Bools,\n",
    "#lists,\n",
    "#dictionaries"
   ]
  },
  {
   "cell_type": "code",
   "execution_count": 28,
   "metadata": {},
   "outputs": [
    {
     "name": "stdout",
     "output_type": "stream",
     "text": [
      "String: hello\n",
      "Integer: 9\n",
      "Float: 3.14\n",
      "Bools: True\n",
      "['hello', 'hi', 9, 'hello']\n"
     ]
    }
   ],
   "source": [
    "a = \"hello\"\n",
    "b = 9\n",
    "c = 3.14\n",
    "d = True\n",
    "# a boolean has true and false or 1 and 0 respectively. \n",
    "l = [\"hello\", \"hi\", 9, a]\n",
    "print(\"String: \" + a)\n",
    "print(\"Integer: \"+ str(b))\n",
    "print(\"Float: \"+str(c))\n",
    "print(\"Bools: \"+str(d))\n",
    "print(l)"
   ]
  },
  {
   "cell_type": "code",
   "execution_count": 29,
   "metadata": {},
   "outputs": [],
   "source": [
    "#Strings"
   ]
  },
  {
   "cell_type": "code",
   "execution_count": 34,
   "metadata": {},
   "outputs": [
    {
     "name": "stdout",
     "output_type": "stream",
     "text": [
      "Hello World\n",
      "H\n",
      "Hello W\n",
      "Hello World I am Aman\n"
     ]
    }
   ],
   "source": [
    "foo = \"Hello World\"\n",
    "print(foo)\n",
    "print(foo[0])\n",
    "print(foo[0:7])\n",
    "\n",
    "bar = \"I am Aman\"\n",
    "print(foo +\" \"+bar)"
   ]
  },
  {
   "cell_type": "code",
   "execution_count": 37,
   "metadata": {},
   "outputs": [
    {
     "name": "stdout",
     "output_type": "stream",
     "text": [
      "12.14\n",
      "5.859999999999999\n",
      "2.8662420382165603\n",
      "28.26\n"
     ]
    }
   ],
   "source": [
    "#Operators:\n",
    "# Logical and Conditional\n",
    "#arithmetic\n",
    "print(b+c)\n",
    "print(b-c)\n",
    "print(b/c)\n",
    "print(b*c)\n",
    "\n",
    "#Logical\n",
    "#and\n",
    "#or\n",
    "#not"
   ]
  },
  {
   "cell_type": "code",
   "execution_count": 40,
   "metadata": {},
   "outputs": [
    {
     "name": "stdout",
     "output_type": "stream",
     "text": [
      "True\n",
      "False\n",
      "True\n",
      "False\n",
      "True\n",
      "False\n",
      "True\n"
     ]
    }
   ],
   "source": [
    "#conditional \n",
    "print(a==a)\n",
    "print(a==b)\n",
    "print(a!=b)\n",
    "print(b<c)\n",
    "print(b>c)\n",
    "print(b<=c)\n",
    "print(b>=c)"
   ]
  },
  {
   "cell_type": "code",
   "execution_count": 64,
   "metadata": {
    "scrolled": false
   },
   "outputs": [
    {
     "name": "stdout",
     "output_type": "stream",
     "text": [
      "['hello', 9, 3.14, True]\n",
      "hello 9\n",
      "['hello', 9, 3.14]\n"
     ]
    }
   ],
   "source": [
    "#lists: \n",
    "l = [a,b,c,d]\n",
    "print(l)\n",
    "print(l[0] + \" \"+ str(l[1]))\n",
    "print(l[0:3])"
   ]
  },
  {
   "cell_type": "code",
   "execution_count": 70,
   "metadata": {},
   "outputs": [
    {
     "name": "stdout",
     "output_type": "stream",
     "text": [
      "{'Aman': 'Recruitment', 'Naitian': 'Projects', 'You': 'Cool'}\n",
      "Recruitment\n"
     ]
    }
   ],
   "source": [
    "dictionary = {\n",
    "    \"Aman\":\"Recruitment\",\n",
    "    \"Naitian\":\"Projects\",\n",
    "    \"You\":\"Cool\"\n",
    "}\n",
    "print(dictionary)\n",
    "print(dictionary[\"Aman\"])"
   ]
  },
  {
   "cell_type": "code",
   "execution_count": 75,
   "metadata": {},
   "outputs": [
    {
     "name": "stdout",
     "output_type": "stream",
     "text": [
      "33\n"
     ]
    }
   ],
   "source": [
    "#Python Conditional Statements\n",
    "#We will learn only If and Else\n",
    "a = 33\n",
    "b = 200\n",
    "if (a<b):\n",
    "    print(a)\n",
    "else:\n",
    "    print(b)"
   ]
  },
  {
   "cell_type": "code",
   "execution_count": 101,
   "metadata": {},
   "outputs": [
    {
     "name": "stdout",
     "output_type": "stream",
     "text": [
      "33\n"
     ]
    }
   ],
   "source": [
    "if(a>b or a==a):\n",
    "    print(a)\n",
    "else:\n",
    "    print(b)"
   ]
  },
  {
   "cell_type": "code",
   "execution_count": 103,
   "metadata": {},
   "outputs": [
    {
     "name": "stdout",
     "output_type": "stream",
     "text": [
      "200\n"
     ]
    }
   ],
   "source": [
    "if(a>b and a==a):\n",
    "    print(a)\n",
    "else:\n",
    "    print(b)"
   ]
  },
  {
   "cell_type": "code",
   "execution_count": 116,
   "metadata": {},
   "outputs": [
    {
     "name": "stdout",
     "output_type": "stream",
     "text": [
      "Enter a number1\n",
      "Odd\n"
     ]
    }
   ],
   "source": [
    "#Ask the user for a number.\n",
    "#Depending on whether the number is even or odd,\n",
    "#print out an appropriate message to the user.\n",
    "#Hint: how does an even / odd number react differently when divided by 2?\n",
    "\n",
    "inn = int(input(\"Enter a number\"))\n",
    "if(inn%2==0):\n",
    "    print(\"Even\")\n",
    "else:\n",
    "    print(\"Odd\")"
   ]
  },
  {
   "cell_type": "code",
   "execution_count": 155,
   "metadata": {},
   "outputs": [
    {
     "name": "stdout",
     "output_type": "stream",
     "text": [
      "0\n"
     ]
    }
   ],
   "source": [
    "a=0\n",
    "b=10\n",
    "if(a<b):\n",
    "    print(a)\n",
    "elif(a>b):\n",
    "    print(b)\n",
    "else:\n",
    "    print(\"Hahah\")"
   ]
  },
  {
   "cell_type": "code",
   "execution_count": 196,
   "metadata": {},
   "outputs": [
    {
     "name": "stdout",
     "output_type": "stream",
     "text": [
      "oranges\n",
      "apples\n",
      "bananas\n",
      "lemons\n",
      "\n",
      "\n",
      "oranges\n",
      "apples\n",
      "bananas\n",
      "lemons\n"
     ]
    }
   ],
   "source": [
    "#LOOPS\n",
    "# for loops and while loops\n",
    "\n",
    "l = [\"oranges\",\"apples\",\"bananas\",\"lemons\"]\n",
    "for element in l:\n",
    "    print(element)\n",
    "    \n",
    "print(\"\\n\")\n",
    "\n",
    "i = 0\n",
    "while(i<len(l)):\n",
    "    print(l[i])\n",
    "    i=i+1"
   ]
  },
  {
   "cell_type": "code",
   "execution_count": 276,
   "metadata": {},
   "outputs": [
    {
     "name": "stdout",
     "output_type": "stream",
     "text": [
      "2.0\n",
      "8\n"
     ]
    }
   ],
   "source": [
    "#Math and Random module\n",
    "from math import sqrt\n",
    "from random import randint\n",
    "\n",
    "a = 4\n",
    "print(sqrt(a))\n",
    "print(randint(1,9))"
   ]
  },
  {
   "cell_type": "code",
   "execution_count": 5,
   "metadata": {},
   "outputs": [],
   "source": [
    "# Checkpoint 2\n",
    "#Generate a random number between 1 and 9\n",
    "#(including 1 and 9). \n",
    "#Ask the user to guess the number, \n",
    "#then tell them whether they guessed too low, too high, or exactly right. \n",
    "#(Hint: remember to use the user input lessons from the very first exercise). \n",
    "#Keep the game going until the user types “exit”. [ try checking the random module in python on google.\n",
    "#Concepts: Infinite loops, if, else, loops and user/input].\n"
   ]
  },
  {
   "cell_type": "code",
   "execution_count": 278,
   "metadata": {},
   "outputs": [],
   "source": [
    "#Quick Recap: \n",
    "# Variables\n",
    "# Datatypes\n",
    "# Operators : Arithmetic,Logical,Conditional\n",
    "# Lists\n",
    "# Dictionaries\n",
    "# if and else\n",
    "# Loops\n",
    "# Modules"
   ]
  },
  {
   "cell_type": "code",
   "execution_count": 6,
   "metadata": {},
   "outputs": [
    {
     "name": "stdout",
     "output_type": "stream",
     "text": [
      "hello\n"
     ]
    }
   ],
   "source": [
    "#File I/O\n",
    "#File I/O\n",
    "#write a file\n",
    "with open(\"hello.txt\",\"w\") as file: \n",
    "    for element in range(5):\n",
    "        file.write(\"hello world!\\n\")\n",
    "\n",
    "#read a file\n",
    "s=\"\"\n",
    "with open(\"hello.txt\",\"r\") as file:\n",
    "    s=file.readline() \n",
    "    print(s[0:5])"
   ]
  }
 ],
 "metadata": {
  "kernelspec": {
   "display_name": "Python 3",
   "language": "python",
   "name": "python3"
  },
  "language_info": {
   "codemirror_mode": {
    "name": "ipython",
    "version": 3
   },
   "file_extension": ".py",
   "mimetype": "text/x-python",
   "name": "python",
   "nbconvert_exporter": "python",
   "pygments_lexer": "ipython3",
   "version": "3.7.4"
  }
 },
 "nbformat": 4,
 "nbformat_minor": 4
}
