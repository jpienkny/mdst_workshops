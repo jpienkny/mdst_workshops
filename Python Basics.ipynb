{
 "cells": [
  {
   "cell_type": "code",
   "execution_count": 1,
   "metadata": {},
   "outputs": [
    {
     "name": "stdout",
     "output_type": "stream",
     "text": [
      "Hello World\n"
     ]
    }
   ],
   "source": [
    "print(\"Hello World\")"
   ]
  },
  {
   "cell_type": "code",
   "execution_count": 2,
   "metadata": {},
   "outputs": [
    {
     "name": "stdout",
     "output_type": "stream",
     "text": [
      "7\n",
      "8.23\n",
      "Hi People\n",
      "Hello Everyone\n"
     ]
    }
   ],
   "source": [
    "a = 7\n",
    "b = 8.23\n",
    "c = \"Hi People\"\n",
    "d = 'Hello Everyone'\n",
    "print(a)\n",
    "print(b)\n",
    "print(c)\n",
    "print(d)"
   ]
  },
  {
   "cell_type": "code",
   "execution_count": 4,
   "metadata": {},
   "outputs": [],
   "source": [
    "#Rules for Python variables:\n",
    "#A variable name must start with a letter or the underscore character\n",
    "#A variable name cannot start with a number\n",
    "#A variable name can only contain alpha-numeric characters \n",
    "#and underscores (A-z, 0-9, and _ )\n",
    "#Variable names are case-sensitive \n",
    "#(age, Age and AGE are three different variables)"
   ]
  },
  {
   "cell_type": "code",
   "execution_count": 6,
   "metadata": {},
   "outputs": [],
   "source": [
    "mdsy_9_hello_whatsup_hey_this_is_redundant = 5"
   ]
  },
  {
   "cell_type": "code",
   "execution_count": 8,
   "metadata": {},
   "outputs": [
    {
     "data": {
      "text/plain": [
       "'\\nMulti\\nline \\ncomment\\n'"
      ]
     },
     "execution_count": 8,
     "metadata": {},
     "output_type": "execute_result"
    }
   ],
   "source": [
    "'''\n",
    "Multi\n",
    "line \n",
    "comment\n",
    "'''\n",
    "#Hi whatsup. this is my code"
   ]
  },
  {
   "cell_type": "code",
   "execution_count": 10,
   "metadata": {},
   "outputs": [],
   "source": [
    "#String\n",
    "#Integer\n",
    "#Float/Double\n",
    "#Lists\n",
    "#Boolean\n",
    "#Dictionaries"
   ]
  },
  {
   "cell_type": "code",
   "execution_count": 18,
   "metadata": {},
   "outputs": [
    {
     "name": "stdout",
     "output_type": "stream",
     "text": [
      "hello\n",
      "9\n",
      "3.14\n",
      "6\n"
     ]
    }
   ],
   "source": [
    "a = \"hello\"\n",
    "number = \"5\"\n",
    "b = 9\n",
    "c = 3.14\n",
    "d = False\n",
    "print(a)\n",
    "print(b)\n",
    "print(c)\n",
    "print(int(number)+1)\n",
    "#typecasting\n",
    "#int()\n",
    "#float()"
   ]
  },
  {
   "cell_type": "code",
   "execution_count": 30,
   "metadata": {},
   "outputs": [
    {
     "name": "stdout",
     "output_type": "stream",
     "text": [
      "Uniqname = @umich.edu\n",
      "T\n",
      "o\n",
      "a\n",
      "Today\n",
      "Hello World\n",
      "Hello World\n"
     ]
    }
   ],
   "source": [
    "#Strings\n",
    "a = \"Hello\"\n",
    "b = \"World\"\n",
    "c = \"This\"\n",
    "d = \"is\"\n",
    "e = \"python3\"\n",
    "sentence = \"Today is a great saturday afternoon.\"\n",
    "email = \"amansr@umich.edu\"\n",
    "print(\"Uniqname = \" + email[-10:])\n",
    "#string indexing\n",
    "print(sentence[0])\n",
    "print(sentence[1])\n",
    "print(sentence[3])\n",
    "print(sentence[0:5])\n",
    "#string concatenation\n",
    "print(a + \" \" + b)\n",
    "mdst = a + \" \" + b\n",
    "print(mdst)"
   ]
  },
  {
   "cell_type": "code",
   "execution_count": 42,
   "metadata": {},
   "outputs": [
    {
     "name": "stdout",
     "output_type": "stream",
     "text": [
      "2.6666666666666665\n",
      "27.0\n",
      "12\n",
      "6\n",
      "True\n",
      "False\n",
      "False\n",
      "True\n",
      "\n",
      "\n",
      "True\n",
      "False\n",
      "False\n",
      "\n",
      "\n",
      "True\n",
      "True\n",
      "False\n",
      "\n",
      "\n",
      "False\n",
      "True\n"
     ]
    }
   ],
   "source": [
    "#Operators:\n",
    "\n",
    "#Arithmetic operators\n",
    "print(8/3) #3\n",
    "print(9.0*3) #27\n",
    "print(9+3) #12\n",
    "print(9-3) #6\n",
    "    \n",
    "#Conditional Operators\n",
    "print(9>3) #True\n",
    "print(9<3) #False\n",
    "print(9==3) #False\n",
    "print(3==3) #True\n",
    "print(\"\\n\")\n",
    "\n",
    "#Logical Operators\n",
    "print(True and True) #True\n",
    "print(False and False) #False\n",
    "print(False and True) #False\n",
    "print(\"\\n\")\n",
    "\n",
    "print(True or True)\n",
    "print(False or True)\n",
    "print(False or False)\n",
    "\n",
    "print(\"\\n\")\n",
    "print(not True)\n",
    "print(not False)"
   ]
  },
  {
   "cell_type": "code",
   "execution_count": 44,
   "metadata": {},
   "outputs": [
    {
     "name": "stdout",
     "output_type": "stream",
     "text": [
      "['apples', 'oranges', 'bananas', 'watermelons', 5]\n"
     ]
    }
   ],
   "source": [
    "#lists\n",
    "\n",
    "fruits = [\"apples\",\"oranges\",\"bananas\",\"watermelons\",5]\n",
    "print(fruits)"
   ]
  },
  {
   "cell_type": "code",
   "execution_count": 50,
   "metadata": {},
   "outputs": [
    {
     "name": "stdout",
     "output_type": "stream",
     "text": [
      "h\n",
      "['h', 'e', 'l', 'l', 'o']\n"
     ]
    }
   ],
   "source": [
    "s = ['h','e','l','l','o']\n",
    "print(s[0])\n",
    "print(s[0:5])"
   ]
  },
  {
   "cell_type": "code",
   "execution_count": 54,
   "metadata": {},
   "outputs": [
    {
     "name": "stdout",
     "output_type": "stream",
     "text": [
      "{'oranges': 5, 'apples': 10, 'lemons': 100, 'melons': 0}\n"
     ]
    }
   ],
   "source": [
    "#Dictionaries \n",
    "dictionary = {\n",
    "    \"oranges\":5,\n",
    "    \"apples\":10,\n",
    "    \"lemons\": 100,\n",
    "    \"melons\":0\n",
    "}\n",
    "print(dictionary)"
   ]
  },
  {
   "cell_type": "code",
   "execution_count": 57,
   "metadata": {},
   "outputs": [
    {
     "data": {
      "text/plain": [
       "5"
      ]
     },
     "execution_count": 57,
     "metadata": {},
     "output_type": "execute_result"
    }
   ],
   "source": [
    "dictionary[\"oranges\"]"
   ]
  },
  {
   "cell_type": "code",
   "execution_count": 62,
   "metadata": {},
   "outputs": [
    {
     "name": "stdout",
     "output_type": "stream",
     "text": [
      "10\n"
     ]
    }
   ],
   "source": [
    "#Extra\n",
    "dictionary = {\n",
    "    \"fruits\":fruits,\n",
    "    \"apples\":10,\n",
    "    \"lemons\": 100,\n",
    "    \"melons\":0\n",
    "}\n",
    "print(dictionary[dictionary[\"fruits\"][0]])"
   ]
  },
  {
   "cell_type": "code",
   "execution_count": 67,
   "metadata": {},
   "outputs": [
    {
     "name": "stdout",
     "output_type": "stream",
     "text": [
      "10\n"
     ]
    }
   ],
   "source": [
    "a = 10\n",
    "b = 100\n",
    "if a<b:\n",
    "    print(a)\n",
    "else:\n",
    "    print(b)"
   ]
  },
  {
   "cell_type": "code",
   "execution_count": null,
   "metadata": {},
   "outputs": [],
   "source": [
    "#a = 102\n",
    "#b = 100\n",
    "if(a<b and dictionary[\"apples\"]==10):\n",
    "    print(\"a,b and 10 apples\")\n",
    "else:\n",
    "    print(\"Hope i have lemons atleast?\")"
   ]
  },
  {
   "cell_type": "code",
   "execution_count": null,
   "metadata": {},
   "outputs": [],
   "source": [
    "a = 1\n",
    "b = 1\n",
    "if(a<b and dictionary[\"apples\"]==10):\n",
    "    print(\"a,b and 10 apples\")\n",
    "elif a>b:\n",
    "    print(\"Hope i have lemons atleast?\") \n",
    "else:\n",
    "    print(\"what?\")"
   ]
  },
  {
   "cell_type": "code",
   "execution_count": null,
   "metadata": {},
   "outputs": [],
   "source": [
    "#Exercise 1: \n",
    "#Ask the user for a number.\n",
    "#Depending on whether the number is even or odd, \n",
    "#print out an appropriate message to the user.\n",
    "#Hint: how does an even / odd number react differently when divided by 2?\n",
    "#the special operator : %\n",
    "\n",
    "x = int(input(\"enter a number:\"))\n",
    "if (x%2==0):\n",
    "    print(\"Even\")\n",
    "else:\n",
    "    print(\"Odd\")"
   ]
  },
  {
   "cell_type": "code",
   "execution_count": null,
   "metadata": {},
   "outputs": [],
   "source": [
    "#loops\n",
    "fruits = [\"apples\",\"oranges\",\"bananas\",\"watermelons\",5]\n",
    "for fruit in fruits:\n",
    "    print(fruit)"
   ]
  }
 ],
 "metadata": {
  "kernelspec": {
   "display_name": "Python 3",
   "language": "python",
   "name": "python3"
  },
  "language_info": {
   "codemirror_mode": {
    "name": "ipython",
    "version": 3
   },
   "file_extension": ".py",
   "mimetype": "text/x-python",
   "name": "python",
   "nbconvert_exporter": "python",
   "pygments_lexer": "ipython3",
   "version": "3.7.4"
  }
 },
 "nbformat": 4,
 "nbformat_minor": 4
}
